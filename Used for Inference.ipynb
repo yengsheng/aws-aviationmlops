{
 "cells": [
  {
   "cell_type": "code",
   "execution_count": 81,
   "metadata": {},
   "outputs": [],
   "source": [
    "import boto3\n",
    "import pandas as pd\n",
    "import io\n",
    "\n",
    "client = boto3.client('sagemaker-runtime')\n",
    "threshold = 0.5"
   ]
  },
  {
   "cell_type": "code",
   "execution_count": 70,
   "metadata": {},
   "outputs": [],
   "source": [
    "f = pd.read_csv(\"./data/aviation_inflow.csv\")\n",
    "test_file = io.StringIO()\n",
    "f.to_csv(test_file, header=None, index=None)"
   ]
  },
  {
   "cell_type": "code",
   "execution_count": 71,
   "metadata": {},
   "outputs": [],
   "source": [
    "response = client.invoke_endpoint(\n",
    "    EndpointName='ys-mlops-prod',\n",
    "    Body=test_file.getvalue(),\n",
    "    ContentType='text/csv',\n",
    "    Accept='Accept')"
   ]
  },
  {
   "cell_type": "code",
   "execution_count": 72,
   "metadata": {},
   "outputs": [
    {
     "name": "stdout",
     "output_type": "stream",
     "text": [
      "4468 19149\n"
     ]
    }
   ],
   "source": [
    "#### Testing on a 30% split ####\n",
    "\n",
    "import numpy as np\n",
    "\n",
    "preds = response['Body'].read().decode('ascii')\n",
    "preds = np.fromstring(preds[1:],sep=',')\n",
    "die = 0\n",
    "no_die = 0\n",
    "for pred in preds:\n",
    "    if pred >= threshold:\n",
    "        die+=1\n",
    "    else: no_die+=1\n",
    "        \n",
    "print(die, no_die)"
   ]
  },
  {
   "cell_type": "code",
   "execution_count": 79,
   "metadata": {},
   "outputs": [
    {
     "name": "stdout",
     "output_type": "stream",
     "text": [
      "3 0\n"
     ]
    }
   ],
   "source": [
    "#### Test inference run ####\n",
    "\n",
    "test_file = io.StringIO()\n",
    "inf = pd.DataFrame([[1, 2, 3, 4, 2, 3, 2, 3, 4],\n",
    "                   [1, 2, 3, 4, 2, 3, 2, 3, 4],\n",
    "                   [1, 2, 3, 4, 2, 3, 2, 3, 4],])\n",
    "inf.to_csv(test_file, header=None, index=None)\n",
    "\n",
    "response = client.invoke_endpoint(\n",
    "    EndpointName='ys-mlops-prod',\n",
    "    Body=test_file.getvalue(),\n",
    "    ContentType='text/csv',\n",
    "    Accept='Accept')\n",
    "\n",
    "preds = response['Body'].read().decode('ascii')\n",
    "preds = np.fromstring(preds[1:],sep=',')\n",
    "die = 0\n",
    "no_die = 0\n",
    "for pred in preds:\n",
    "    if pred >= threshold:\n",
    "        die+=1\n",
    "    else: no_die+=1\n",
    "        \n",
    "print(die, no_die)"
   ]
  },
  {
   "cell_type": "code",
   "execution_count": 86,
   "metadata": {},
   "outputs": [
    {
     "name": "stdout",
     "output_type": "stream",
     "text": [
      "Please enter the respective numbers: \n"
     ]
    },
    {
     "name": "stdin",
     "output_type": "stream",
     "text": [
      "Incident Type? 1. Incident, 2. Accident:  2\n",
      "Country? 0. Outside United States, 1. United States:  1\n",
      "Injury Severity? 0. Unavailable, 1. Minor, 2. Non-Fatal, 3. Siruouse, 4. Fatal:  4\n",
      "Amateur Built? 0. No, 1. Yes:  1\n",
      "Number of engines:  2\n",
      "Fatal Injuries:  15\n",
      "Serious Injuries:  12\n",
      "Minor Injuries:  3\n",
      "Uninjured:  0\n"
     ]
    },
    {
     "name": "stdout",
     "output_type": "stream",
     "text": [
      "0.6471141576766968\n",
      "[0.64711416]\n",
      "Destroyed\n"
     ]
    }
   ],
   "source": [
    "#### Allow realtime input ####\n",
    "#### Only enter the allowed integers please ####\n",
    "\n",
    "print(\"Please enter the respective numbers: \")\n",
    "incident_type = input(\"Incident Type? 1. Incident, 2. Accident: \")\n",
    "country = input(\"Country? 0. Outside United States, 1. United States: \")\n",
    "injury = input(\"Injury Severity? 0. Unavailable, 1. Minor, 2. Non-Fatal, 3. Siruouse, 4. Fatal: \")\n",
    "amateur = input(\"Amateur Built? 0. No, 1. Yes: \")\n",
    "engines = input(\"Number of engines: \")\n",
    "fatal = input(\"Fatal Injuries: \")\n",
    "serious = input(\"Serious Injuries: \")\n",
    "minor = input(\"Minor Injuries: \")\n",
    "uninjured = input(\"Uninjured: \")\n",
    "\n",
    "test_file = io.StringIO()\n",
    "inf = pd.DataFrame([[incident_type, country, injury, amateur, engines, fatal, serious, minor, uninjured]])\n",
    "inf.to_csv(test_file, header=None, index=None)\n",
    "\n",
    "response = client.invoke_endpoint(\n",
    "    EndpointName='ys-mlops-prod',\n",
    "    Body=test_file.getvalue(),\n",
    "    ContentType='text/csv',\n",
    "    Accept='Accept')\n",
    "\n",
    "preds = response['Body'].read().decode('ascii')\n",
    "print(preds)\n",
    "preds = np.fromstring(preds[1:],sep=',')\n",
    "print(preds)\n",
    "if preds >= threshold:\n",
    "    print(\"Destroyed\")\n",
    "else:\n",
    "    print(\"Not destroyed\")"
   ]
  }
 ],
 "metadata": {
  "instance_type": "ml.t3.medium",
  "kernelspec": {
   "display_name": "Python 3 (Data Science)",
   "language": "python",
   "name": "python3__SAGEMAKER_INTERNAL__arn:aws:sagemaker:ap-southeast-1:492261229750:image/datascience-1.0"
  },
  "language_info": {
   "codemirror_mode": {
    "name": "ipython",
    "version": 3
   },
   "file_extension": ".py",
   "mimetype": "text/x-python",
   "name": "python",
   "nbconvert_exporter": "python",
   "pygments_lexer": "ipython3",
   "version": "3.7.10"
  }
 },
 "nbformat": 4,
 "nbformat_minor": 4
}
